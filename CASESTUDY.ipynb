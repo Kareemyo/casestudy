{
 "cells": [
  {
   "cell_type": "code",
   "execution_count": 127,
   "id": "b1292e10-bbef-455d-a8bb-2954f57b11b5",
   "metadata": {
    "tags": []
   },
   "outputs": [],
   "source": [
    "import os\n",
    "import pandas as pd\n",
    "import numpy as np\n",
    "import matplotlib.pyplot as plt\n",
    "import seaborn as sns\n",
    "import glob\n",
    "from pathlib import Path\n",
    "\n",
    "\n",
    "from statsmodels.tsa.arima.model import ARIMA\n",
    "from statsmodels.tsa.seasonal import seasonal_decompose\n",
    "from sklearn.metrics import mean_absolute_error, mean_squared_error"
   ]
  },
  {
   "cell_type": "code",
   "execution_count": 128,
   "id": "d5497e96-1e8f-4e73-9e3a-db273911d46c",
   "metadata": {
    "tags": []
   },
   "outputs": [],
   "source": [
    "import zipfile"
   ]
  },
  {
   "cell_type": "code",
   "execution_count": 129,
   "id": "2e47022a-dc3f-45fa-8306-cf0074ced913",
   "metadata": {
    "tags": []
   },
   "outputs": [],
   "source": [
    "def unzip_folder(zip_path, dest_path):\n",
    "    with zipfile.ZipFile(zip_path, \"r\") as zip_file:\n",
    "        zip_file.extractall(dest_path)"
   ]
  },
  {
   "cell_type": "code",
   "execution_count": null,
   "id": "31ae6ed5-9213-4451-a9af-127178ad3da8",
   "metadata": {},
   "outputs": [],
   "source": []
  },
  {
   "cell_type": "code",
   "execution_count": 130,
   "id": "d2cf08a2-771d-4910-b4b0-07062170bffe",
   "metadata": {
    "tags": []
   },
   "outputs": [],
   "source": [
    "zip_path = r\"/Users/arnel/Downloads/Instacart Market Basket Analysis\"\n",
    "dest_path =r\"/Users/arnel/Downloads/Instacart data\"\n"
   ]
  },
  {
   "cell_type": "code",
   "execution_count": null,
   "id": "3f466698-f2d6-447c-b5fa-16426c5c8355",
   "metadata": {},
   "outputs": [],
   "source": []
  },
  {
   "cell_type": "code",
   "execution_count": 131,
   "id": "4a949e80-1a13-4837-bade-8c02d315bf8b",
   "metadata": {
    "tags": []
   },
   "outputs": [],
   "source": [
    "# Begin looping through zipped folder \n",
    "for root, dirs, files in os.walk(zip_path):\n",
    "    # Loop through files of zipped folders all at once \n",
    "    for file in files:\n",
    "        if file.endswith(\".zip\"):\n",
    "            # Create path that points directly to zipped file \n",
    "            full_file_path = os.path.join(root, file)\n",
    "            # Run unzip_folder() using new full_file_path and destination\n",
    "            unzip_folder(full_file_path, dest_path)"
   ]
  },
  {
   "cell_type": "code",
   "execution_count": 132,
   "id": "21aa1545-6188-4e49-9a40-a4fb31ac6e8d",
   "metadata": {
    "tags": []
   },
   "outputs": [],
   "source": [
    "# Read the Instacart data into dataframes \n",
    "# Change directories to where unzipped Instacart data is located \n",
    "os.chdir(dest_path)"
   ]
  },
  {
   "cell_type": "code",
   "execution_count": 133,
   "id": "7265adea-4eae-4768-a226-bdd1d956f567",
   "metadata": {
    "tags": []
   },
   "outputs": [
    {
     "data": {
      "text/plain": [
       "['products.csv',\n",
       " 'orders.csv',\n",
       " '.DS_Store',\n",
       " 'order_products__train.csv',\n",
       " 'departments.csv',\n",
       " '__MACOSX',\n",
       " 'aisles.csv',\n",
       " 'order_products__prior.csv',\n",
       " 'sample_submission.csv']"
      ]
     },
     "execution_count": 133,
     "metadata": {},
     "output_type": "execute_result"
    }
   ],
   "source": [
    "# List the files in my current working directory \n",
    "sourcefiles = os.listdir(dest_path)\n",
    "sourcefiles"
   ]
  },
  {
   "cell_type": "code",
   "execution_count": 134,
   "id": "d3b1a416-34ab-4068-b80b-866ce4081755",
   "metadata": {
    "tags": []
   },
   "outputs": [],
   "source": [
    "file_names = [os.path.splitext(file)[0] for file in sourcefiles if file.endswith(\".csv\")]"
   ]
  },
  {
   "cell_type": "code",
   "execution_count": 135,
   "id": "ee4fa68c-de9c-4172-a647-b8145c7b34de",
   "metadata": {
    "tags": []
   },
   "outputs": [
    {
     "name": "stdout",
     "output_type": "stream",
     "text": [
      "['products', 'orders', 'order_products__train', 'departments', 'aisles', 'order_products__prior', 'sample_submission']\n"
     ]
    }
   ],
   "source": [
    "print(file_names)"
   ]
  },
  {
   "cell_type": "code",
   "execution_count": 136,
   "id": "31767a63-b8eb-40db-aa94-e1194f3ab1d9",
   "metadata": {
    "tags": []
   },
   "outputs": [],
   "source": [
    "# dfs = {key: pd.read_csv(os.path.join(dest_path, file)) for key, file in zip(file_names, sourcefiles) if file.endswith(\".csv\")}\n",
    "dfs = {file.stem: pd.read_csv(file.resolve()) for file in Path(dest_path).glob(\"*.csv\")}"
   ]
  },
  {
   "cell_type": "code",
   "execution_count": 137,
   "id": "78269d60-5a08-4d00-ae2e-b34235427583",
   "metadata": {
    "tags": []
   },
   "outputs": [
    {
     "data": {
      "text/plain": [
       "dict_keys(['products', 'orders', 'order_products__train', 'departments', 'aisles', 'order_products__prior', 'sample_submission'])"
      ]
     },
     "execution_count": 137,
     "metadata": {},
     "output_type": "execute_result"
    }
   ],
   "source": [
    "dfs.keys()"
   ]
  },
  {
   "cell_type": "code",
   "execution_count": 138,
   "id": "ece16e3c-eea1-4805-85bf-8a2fddcd2b24",
   "metadata": {
    "tags": []
   },
   "outputs": [],
   "source": [
    "products_df = dfs[\"products\"]\n",
    "orders_df = dfs[\"orders\"]\n",
    "departments_df = dfs[\"departments\"]\n",
    "aisles_df = dfs[\"aisles\"]\n",
    "order_products_prior_df = dfs[\"order_products__prior\"]"
   ]
  },
  {
   "cell_type": "code",
   "execution_count": 156,
   "id": "eca2be34-1c49-4e35-a134-4370f19f9243",
   "metadata": {},
   "outputs": [
    {
     "data": {
      "text/plain": [
       "Index(['product_id', 'product_name', 'aisle_id', 'department_id'], dtype='object')"
      ]
     },
     "execution_count": 156,
     "metadata": {},
     "output_type": "execute_result"
    }
   ],
   "source": [
    "products_df.columns"
   ]
  },
  {
   "cell_type": "code",
   "execution_count": 142,
   "id": "013fda37-af6f-4879-ac5e-cd1b090e0f22",
   "metadata": {},
   "outputs": [
    {
     "name": "stdout",
     "output_type": "stream",
     "text": [
      "The dimension for the Dataframes are as follows: \n",
      "Products: (49688, 4) \n",
      "Orders: (3421083, 7) \n",
      "Department: (21, 2) \n",
      "Aisles: (134, 2) \n",
      "Prior Orders: (32434489, 4)\n"
     ]
    }
   ],
   "source": [
    "print(f'The dimension for the Dataframes are as follows:',\n",
    "'\\n''Products:',products_df.shape, \n",
    "'\\n''Orders:', orders_df.shape,\n",
    "'\\n''Department:', departments_df.shape,\n",
    "'\\n''Aisles:', aisles_df.shape,\n",
    "'\\n''Prior Orders:', order_products_prior_df.shape)"
   ]
  },
  {
   "cell_type": "code",
   "execution_count": 148,
   "id": "ef93a3cc-72b3-40ba-9894-30a61664f391",
   "metadata": {},
   "outputs": [
    {
     "data": {
      "text/html": [
       "<div>\n",
       "<style scoped>\n",
       "    .dataframe tbody tr th:only-of-type {\n",
       "        vertical-align: middle;\n",
       "    }\n",
       "\n",
       "    .dataframe tbody tr th {\n",
       "        vertical-align: top;\n",
       "    }\n",
       "\n",
       "    .dataframe thead th {\n",
       "        text-align: right;\n",
       "    }\n",
       "</style>\n",
       "<table border=\"1\" class=\"dataframe\">\n",
       "  <thead>\n",
       "    <tr style=\"text-align: right;\">\n",
       "      <th></th>\n",
       "      <th>aisle_id</th>\n",
       "      <th>aisle</th>\n",
       "      <th>product_id</th>\n",
       "      <th>product_name</th>\n",
       "      <th>department_id</th>\n",
       "    </tr>\n",
       "  </thead>\n",
       "  <tbody>\n",
       "    <tr>\n",
       "      <th>0</th>\n",
       "      <td>1</td>\n",
       "      <td>prepared soups salads</td>\n",
       "      <td>209</td>\n",
       "      <td>Italian Pasta Salad</td>\n",
       "      <td>20</td>\n",
       "    </tr>\n",
       "    <tr>\n",
       "      <th>1</th>\n",
       "      <td>1</td>\n",
       "      <td>prepared soups salads</td>\n",
       "      <td>554</td>\n",
       "      <td>Turkey Chili</td>\n",
       "      <td>20</td>\n",
       "    </tr>\n",
       "    <tr>\n",
       "      <th>2</th>\n",
       "      <td>1</td>\n",
       "      <td>prepared soups salads</td>\n",
       "      <td>886</td>\n",
       "      <td>Whole Grain Salad with Roasted Pecans &amp; Mango ...</td>\n",
       "      <td>20</td>\n",
       "    </tr>\n",
       "    <tr>\n",
       "      <th>3</th>\n",
       "      <td>1</td>\n",
       "      <td>prepared soups salads</td>\n",
       "      <td>1600</td>\n",
       "      <td>Mediterranean Orzo Salad</td>\n",
       "      <td>20</td>\n",
       "    </tr>\n",
       "    <tr>\n",
       "      <th>4</th>\n",
       "      <td>1</td>\n",
       "      <td>prepared soups salads</td>\n",
       "      <td>2539</td>\n",
       "      <td>Original Potato Salad</td>\n",
       "      <td>20</td>\n",
       "    </tr>\n",
       "    <tr>\n",
       "      <th>...</th>\n",
       "      <td>...</td>\n",
       "      <td>...</td>\n",
       "      <td>...</td>\n",
       "      <td>...</td>\n",
       "      <td>...</td>\n",
       "    </tr>\n",
       "    <tr>\n",
       "      <th>49683</th>\n",
       "      <td>134</td>\n",
       "      <td>specialty wines champagnes</td>\n",
       "      <td>47713</td>\n",
       "      <td>Sparkling Rose</td>\n",
       "      <td>5</td>\n",
       "    </tr>\n",
       "    <tr>\n",
       "      <th>49684</th>\n",
       "      <td>134</td>\n",
       "      <td>specialty wines champagnes</td>\n",
       "      <td>48984</td>\n",
       "      <td>Dry Sherry</td>\n",
       "      <td>5</td>\n",
       "    </tr>\n",
       "    <tr>\n",
       "      <th>49685</th>\n",
       "      <td>134</td>\n",
       "      <td>specialty wines champagnes</td>\n",
       "      <td>49438</td>\n",
       "      <td>Dry Fino Sherry</td>\n",
       "      <td>5</td>\n",
       "    </tr>\n",
       "    <tr>\n",
       "      <th>49686</th>\n",
       "      <td>134</td>\n",
       "      <td>specialty wines champagnes</td>\n",
       "      <td>49562</td>\n",
       "      <td>Blanc De Noirs Sparkling Wine</td>\n",
       "      <td>5</td>\n",
       "    </tr>\n",
       "    <tr>\n",
       "      <th>49687</th>\n",
       "      <td>134</td>\n",
       "      <td>specialty wines champagnes</td>\n",
       "      <td>49661</td>\n",
       "      <td>Porto</td>\n",
       "      <td>5</td>\n",
       "    </tr>\n",
       "  </tbody>\n",
       "</table>\n",
       "<p>49688 rows × 5 columns</p>\n",
       "</div>"
      ],
      "text/plain": [
       "       aisle_id                       aisle  product_id  \\\n",
       "0             1       prepared soups salads         209   \n",
       "1             1       prepared soups salads         554   \n",
       "2             1       prepared soups salads         886   \n",
       "3             1       prepared soups salads        1600   \n",
       "4             1       prepared soups salads        2539   \n",
       "...         ...                         ...         ...   \n",
       "49683       134  specialty wines champagnes       47713   \n",
       "49684       134  specialty wines champagnes       48984   \n",
       "49685       134  specialty wines champagnes       49438   \n",
       "49686       134  specialty wines champagnes       49562   \n",
       "49687       134  specialty wines champagnes       49661   \n",
       "\n",
       "                                            product_name  department_id  \n",
       "0                                    Italian Pasta Salad             20  \n",
       "1                                           Turkey Chili             20  \n",
       "2      Whole Grain Salad with Roasted Pecans & Mango ...             20  \n",
       "3                               Mediterranean Orzo Salad             20  \n",
       "4                                  Original Potato Salad             20  \n",
       "...                                                  ...            ...  \n",
       "49683                                     Sparkling Rose              5  \n",
       "49684                                         Dry Sherry              5  \n",
       "49685                                    Dry Fino Sherry              5  \n",
       "49686                      Blanc De Noirs Sparkling Wine              5  \n",
       "49687                                              Porto              5  \n",
       "\n",
       "[49688 rows x 5 columns]"
      ]
     },
     "execution_count": 148,
     "metadata": {},
     "output_type": "execute_result"
    }
   ],
   "source": [
    "# Merge the aisles dataframe with the products dataframe to create aisle_prodcut_merged \n",
    "# merged on 'order_id' using a 'inner' join\n",
    "aisle_product_merged = pd.merge(aisles_df, products_df, on = 'aisle_id', how = 'inner')\n",
    "aisle_product_merged"
   ]
  },
  {
   "cell_type": "code",
   "execution_count": 149,
   "id": "00febab5-3611-4c5c-a0ef-c296429d583e",
   "metadata": {
    "tags": []
   },
   "outputs": [
    {
     "name": "stdout",
     "output_type": "stream",
     "text": [
      "The shape of the new data frame (49688, 5)\n"
     ]
    }
   ],
   "source": [
    "print(f'The shape of the new data frame', aisle_product_merged.shape)"
   ]
  },
  {
   "cell_type": "code",
   "execution_count": 150,
   "id": "f4bb39bc-6a18-42d6-a3ea-b63c338bc2c4",
   "metadata": {
    "tags": []
   },
   "outputs": [
    {
     "data": {
      "text/html": [
       "<div>\n",
       "<style scoped>\n",
       "    .dataframe tbody tr th:only-of-type {\n",
       "        vertical-align: middle;\n",
       "    }\n",
       "\n",
       "    .dataframe tbody tr th {\n",
       "        vertical-align: top;\n",
       "    }\n",
       "\n",
       "    .dataframe thead th {\n",
       "        text-align: right;\n",
       "    }\n",
       "</style>\n",
       "<table border=\"1\" class=\"dataframe\">\n",
       "  <thead>\n",
       "    <tr style=\"text-align: right;\">\n",
       "      <th></th>\n",
       "      <th>aisle_id</th>\n",
       "      <th>aisle</th>\n",
       "      <th>product_id</th>\n",
       "      <th>product_name</th>\n",
       "      <th>department_id</th>\n",
       "      <th>department</th>\n",
       "    </tr>\n",
       "  </thead>\n",
       "  <tbody>\n",
       "    <tr>\n",
       "      <th>0</th>\n",
       "      <td>1</td>\n",
       "      <td>prepared soups salads</td>\n",
       "      <td>209</td>\n",
       "      <td>Italian Pasta Salad</td>\n",
       "      <td>20</td>\n",
       "      <td>deli</td>\n",
       "    </tr>\n",
       "    <tr>\n",
       "      <th>1</th>\n",
       "      <td>1</td>\n",
       "      <td>prepared soups salads</td>\n",
       "      <td>554</td>\n",
       "      <td>Turkey Chili</td>\n",
       "      <td>20</td>\n",
       "      <td>deli</td>\n",
       "    </tr>\n",
       "    <tr>\n",
       "      <th>2</th>\n",
       "      <td>1</td>\n",
       "      <td>prepared soups salads</td>\n",
       "      <td>886</td>\n",
       "      <td>Whole Grain Salad with Roasted Pecans &amp; Mango ...</td>\n",
       "      <td>20</td>\n",
       "      <td>deli</td>\n",
       "    </tr>\n",
       "    <tr>\n",
       "      <th>3</th>\n",
       "      <td>1</td>\n",
       "      <td>prepared soups salads</td>\n",
       "      <td>1600</td>\n",
       "      <td>Mediterranean Orzo Salad</td>\n",
       "      <td>20</td>\n",
       "      <td>deli</td>\n",
       "    </tr>\n",
       "    <tr>\n",
       "      <th>4</th>\n",
       "      <td>1</td>\n",
       "      <td>prepared soups salads</td>\n",
       "      <td>2539</td>\n",
       "      <td>Original Potato Salad</td>\n",
       "      <td>20</td>\n",
       "      <td>deli</td>\n",
       "    </tr>\n",
       "    <tr>\n",
       "      <th>...</th>\n",
       "      <td>...</td>\n",
       "      <td>...</td>\n",
       "      <td>...</td>\n",
       "      <td>...</td>\n",
       "      <td>...</td>\n",
       "      <td>...</td>\n",
       "    </tr>\n",
       "    <tr>\n",
       "      <th>49683</th>\n",
       "      <td>100</td>\n",
       "      <td>missing</td>\n",
       "      <td>49553</td>\n",
       "      <td>Organic Plain Skyr</td>\n",
       "      <td>21</td>\n",
       "      <td>missing</td>\n",
       "    </tr>\n",
       "    <tr>\n",
       "      <th>49684</th>\n",
       "      <td>100</td>\n",
       "      <td>missing</td>\n",
       "      <td>49575</td>\n",
       "      <td>Chocolate Vanilla Malt Custard</td>\n",
       "      <td>21</td>\n",
       "      <td>missing</td>\n",
       "    </tr>\n",
       "    <tr>\n",
       "      <th>49685</th>\n",
       "      <td>100</td>\n",
       "      <td>missing</td>\n",
       "      <td>49641</td>\n",
       "      <td>8\\\" Pecan Pie</td>\n",
       "      <td>21</td>\n",
       "      <td>missing</td>\n",
       "    </tr>\n",
       "    <tr>\n",
       "      <th>49686</th>\n",
       "      <td>100</td>\n",
       "      <td>missing</td>\n",
       "      <td>49664</td>\n",
       "      <td>Lemon Cayenne Drinking Vinegar</td>\n",
       "      <td>21</td>\n",
       "      <td>missing</td>\n",
       "    </tr>\n",
       "    <tr>\n",
       "      <th>49687</th>\n",
       "      <td>100</td>\n",
       "      <td>missing</td>\n",
       "      <td>49669</td>\n",
       "      <td>K Cup Dark Blend</td>\n",
       "      <td>21</td>\n",
       "      <td>missing</td>\n",
       "    </tr>\n",
       "  </tbody>\n",
       "</table>\n",
       "<p>49688 rows × 6 columns</p>\n",
       "</div>"
      ],
      "text/plain": [
       "       aisle_id                  aisle  product_id  \\\n",
       "0             1  prepared soups salads         209   \n",
       "1             1  prepared soups salads         554   \n",
       "2             1  prepared soups salads         886   \n",
       "3             1  prepared soups salads        1600   \n",
       "4             1  prepared soups salads        2539   \n",
       "...         ...                    ...         ...   \n",
       "49683       100                missing       49553   \n",
       "49684       100                missing       49575   \n",
       "49685       100                missing       49641   \n",
       "49686       100                missing       49664   \n",
       "49687       100                missing       49669   \n",
       "\n",
       "                                            product_name  department_id  \\\n",
       "0                                    Italian Pasta Salad             20   \n",
       "1                                           Turkey Chili             20   \n",
       "2      Whole Grain Salad with Roasted Pecans & Mango ...             20   \n",
       "3                               Mediterranean Orzo Salad             20   \n",
       "4                                  Original Potato Salad             20   \n",
       "...                                                  ...            ...   \n",
       "49683                                 Organic Plain Skyr             21   \n",
       "49684                     Chocolate Vanilla Malt Custard             21   \n",
       "49685                                      8\\\" Pecan Pie             21   \n",
       "49686                     Lemon Cayenne Drinking Vinegar             21   \n",
       "49687                                   K Cup Dark Blend             21   \n",
       "\n",
       "      department  \n",
       "0           deli  \n",
       "1           deli  \n",
       "2           deli  \n",
       "3           deli  \n",
       "4           deli  \n",
       "...          ...  \n",
       "49683    missing  \n",
       "49684    missing  \n",
       "49685    missing  \n",
       "49686    missing  \n",
       "49687    missing  \n",
       "\n",
       "[49688 rows x 6 columns]"
      ]
     },
     "execution_count": 150,
     "metadata": {},
     "output_type": "execute_result"
    }
   ],
   "source": [
    "department_aisle_merged = pd.merge(aisle_product_merged, departments_df, on = \"department_id\", how = \"inner\")\n",
    "department_aisle_merged"
   ]
  },
  {
   "cell_type": "code",
   "execution_count": 151,
   "id": "b22996ab-9657-4ba2-b887-b4589783d2c1",
   "metadata": {},
   "outputs": [
    {
     "name": "stdout",
     "output_type": "stream",
     "text": [
      "The shape of the new data frame (49688, 6)\n"
     ]
    }
   ],
   "source": [
    "print(f'The shape of the new data frame', department_aisle_merged.shape)"
   ]
  },
  {
   "cell_type": "code",
   "execution_count": 162,
   "id": "e4419f9c-bb84-490f-80f9-09d35102684c",
   "metadata": {},
   "outputs": [
    {
     "data": {
      "text/html": [
       "<div>\n",
       "<style scoped>\n",
       "    .dataframe tbody tr th:only-of-type {\n",
       "        vertical-align: middle;\n",
       "    }\n",
       "\n",
       "    .dataframe tbody tr th {\n",
       "        vertical-align: top;\n",
       "    }\n",
       "\n",
       "    .dataframe thead th {\n",
       "        text-align: right;\n",
       "    }\n",
       "</style>\n",
       "<table border=\"1\" class=\"dataframe\">\n",
       "  <thead>\n",
       "    <tr style=\"text-align: right;\">\n",
       "      <th></th>\n",
       "      <th>order_id</th>\n",
       "      <th>user_id</th>\n",
       "      <th>eval_set</th>\n",
       "      <th>order_number</th>\n",
       "      <th>order_dow</th>\n",
       "      <th>order_hour_of_day</th>\n",
       "      <th>days_since_prior_order</th>\n",
       "      <th>product_id</th>\n",
       "      <th>add_to_cart_order</th>\n",
       "      <th>reordered</th>\n",
       "    </tr>\n",
       "  </thead>\n",
       "  <tbody>\n",
       "    <tr>\n",
       "      <th>0</th>\n",
       "      <td>2539329</td>\n",
       "      <td>1</td>\n",
       "      <td>prior</td>\n",
       "      <td>1</td>\n",
       "      <td>2</td>\n",
       "      <td>8</td>\n",
       "      <td>NaN</td>\n",
       "      <td>196</td>\n",
       "      <td>1</td>\n",
       "      <td>0</td>\n",
       "    </tr>\n",
       "    <tr>\n",
       "      <th>1</th>\n",
       "      <td>2539329</td>\n",
       "      <td>1</td>\n",
       "      <td>prior</td>\n",
       "      <td>1</td>\n",
       "      <td>2</td>\n",
       "      <td>8</td>\n",
       "      <td>NaN</td>\n",
       "      <td>14084</td>\n",
       "      <td>2</td>\n",
       "      <td>0</td>\n",
       "    </tr>\n",
       "    <tr>\n",
       "      <th>2</th>\n",
       "      <td>2539329</td>\n",
       "      <td>1</td>\n",
       "      <td>prior</td>\n",
       "      <td>1</td>\n",
       "      <td>2</td>\n",
       "      <td>8</td>\n",
       "      <td>NaN</td>\n",
       "      <td>12427</td>\n",
       "      <td>3</td>\n",
       "      <td>0</td>\n",
       "    </tr>\n",
       "    <tr>\n",
       "      <th>3</th>\n",
       "      <td>2539329</td>\n",
       "      <td>1</td>\n",
       "      <td>prior</td>\n",
       "      <td>1</td>\n",
       "      <td>2</td>\n",
       "      <td>8</td>\n",
       "      <td>NaN</td>\n",
       "      <td>26088</td>\n",
       "      <td>4</td>\n",
       "      <td>0</td>\n",
       "    </tr>\n",
       "    <tr>\n",
       "      <th>4</th>\n",
       "      <td>2539329</td>\n",
       "      <td>1</td>\n",
       "      <td>prior</td>\n",
       "      <td>1</td>\n",
       "      <td>2</td>\n",
       "      <td>8</td>\n",
       "      <td>NaN</td>\n",
       "      <td>26405</td>\n",
       "      <td>5</td>\n",
       "      <td>0</td>\n",
       "    </tr>\n",
       "    <tr>\n",
       "      <th>5</th>\n",
       "      <td>2398795</td>\n",
       "      <td>1</td>\n",
       "      <td>prior</td>\n",
       "      <td>2</td>\n",
       "      <td>3</td>\n",
       "      <td>7</td>\n",
       "      <td>15.0</td>\n",
       "      <td>196</td>\n",
       "      <td>1</td>\n",
       "      <td>1</td>\n",
       "    </tr>\n",
       "    <tr>\n",
       "      <th>6</th>\n",
       "      <td>2398795</td>\n",
       "      <td>1</td>\n",
       "      <td>prior</td>\n",
       "      <td>2</td>\n",
       "      <td>3</td>\n",
       "      <td>7</td>\n",
       "      <td>15.0</td>\n",
       "      <td>10258</td>\n",
       "      <td>2</td>\n",
       "      <td>0</td>\n",
       "    </tr>\n",
       "    <tr>\n",
       "      <th>7</th>\n",
       "      <td>2398795</td>\n",
       "      <td>1</td>\n",
       "      <td>prior</td>\n",
       "      <td>2</td>\n",
       "      <td>3</td>\n",
       "      <td>7</td>\n",
       "      <td>15.0</td>\n",
       "      <td>12427</td>\n",
       "      <td>3</td>\n",
       "      <td>1</td>\n",
       "    </tr>\n",
       "    <tr>\n",
       "      <th>8</th>\n",
       "      <td>2398795</td>\n",
       "      <td>1</td>\n",
       "      <td>prior</td>\n",
       "      <td>2</td>\n",
       "      <td>3</td>\n",
       "      <td>7</td>\n",
       "      <td>15.0</td>\n",
       "      <td>13176</td>\n",
       "      <td>4</td>\n",
       "      <td>0</td>\n",
       "    </tr>\n",
       "    <tr>\n",
       "      <th>9</th>\n",
       "      <td>2398795</td>\n",
       "      <td>1</td>\n",
       "      <td>prior</td>\n",
       "      <td>2</td>\n",
       "      <td>3</td>\n",
       "      <td>7</td>\n",
       "      <td>15.0</td>\n",
       "      <td>26088</td>\n",
       "      <td>5</td>\n",
       "      <td>1</td>\n",
       "    </tr>\n",
       "  </tbody>\n",
       "</table>\n",
       "</div>"
      ],
      "text/plain": [
       "   order_id  user_id eval_set  order_number  order_dow  order_hour_of_day  \\\n",
       "0   2539329        1    prior             1          2                  8   \n",
       "1   2539329        1    prior             1          2                  8   \n",
       "2   2539329        1    prior             1          2                  8   \n",
       "3   2539329        1    prior             1          2                  8   \n",
       "4   2539329        1    prior             1          2                  8   \n",
       "5   2398795        1    prior             2          3                  7   \n",
       "6   2398795        1    prior             2          3                  7   \n",
       "7   2398795        1    prior             2          3                  7   \n",
       "8   2398795        1    prior             2          3                  7   \n",
       "9   2398795        1    prior             2          3                  7   \n",
       "\n",
       "   days_since_prior_order  product_id  add_to_cart_order  reordered  \n",
       "0                     NaN         196                  1          0  \n",
       "1                     NaN       14084                  2          0  \n",
       "2                     NaN       12427                  3          0  \n",
       "3                     NaN       26088                  4          0  \n",
       "4                     NaN       26405                  5          0  \n",
       "5                    15.0         196                  1          1  \n",
       "6                    15.0       10258                  2          0  \n",
       "7                    15.0       12427                  3          1  \n",
       "8                    15.0       13176                  4          0  \n",
       "9                    15.0       26088                  5          1  "
      ]
     },
     "execution_count": 162,
     "metadata": {},
     "output_type": "execute_result"
    }
   ],
   "source": [
    "order_product_merged = pd.merge(orders_df,order_products_prior_df , on = 'order_id', how = 'inner')\n",
    "order_product_merged.head(10)"
   ]
  },
  {
   "cell_type": "code",
   "execution_count": 166,
   "id": "59deb04a-7ae2-4565-9f68-09407bfc1a44",
   "metadata": {},
   "outputs": [
    {
     "data": {
      "text/html": [
       "<div>\n",
       "<style scoped>\n",
       "    .dataframe tbody tr th:only-of-type {\n",
       "        vertical-align: middle;\n",
       "    }\n",
       "\n",
       "    .dataframe tbody tr th {\n",
       "        vertical-align: top;\n",
       "    }\n",
       "\n",
       "    .dataframe thead th {\n",
       "        text-align: right;\n",
       "    }\n",
       "</style>\n",
       "<table border=\"1\" class=\"dataframe\">\n",
       "  <thead>\n",
       "    <tr style=\"text-align: right;\">\n",
       "      <th></th>\n",
       "      <th>order_id</th>\n",
       "      <th>product_id</th>\n",
       "      <th>add_to_cart_order</th>\n",
       "      <th>reordered</th>\n",
       "      <th>aisle_id</th>\n",
       "      <th>aisle</th>\n",
       "      <th>product_name</th>\n",
       "      <th>department_id</th>\n",
       "      <th>department</th>\n",
       "    </tr>\n",
       "  </thead>\n",
       "  <tbody>\n",
       "    <tr>\n",
       "      <th>0</th>\n",
       "      <td>2</td>\n",
       "      <td>33120</td>\n",
       "      <td>1</td>\n",
       "      <td>1</td>\n",
       "      <td>86</td>\n",
       "      <td>eggs</td>\n",
       "      <td>Organic Egg Whites</td>\n",
       "      <td>16</td>\n",
       "      <td>dairy eggs</td>\n",
       "    </tr>\n",
       "    <tr>\n",
       "      <th>1</th>\n",
       "      <td>26</td>\n",
       "      <td>33120</td>\n",
       "      <td>5</td>\n",
       "      <td>0</td>\n",
       "      <td>86</td>\n",
       "      <td>eggs</td>\n",
       "      <td>Organic Egg Whites</td>\n",
       "      <td>16</td>\n",
       "      <td>dairy eggs</td>\n",
       "    </tr>\n",
       "    <tr>\n",
       "      <th>2</th>\n",
       "      <td>120</td>\n",
       "      <td>33120</td>\n",
       "      <td>13</td>\n",
       "      <td>0</td>\n",
       "      <td>86</td>\n",
       "      <td>eggs</td>\n",
       "      <td>Organic Egg Whites</td>\n",
       "      <td>16</td>\n",
       "      <td>dairy eggs</td>\n",
       "    </tr>\n",
       "    <tr>\n",
       "      <th>3</th>\n",
       "      <td>327</td>\n",
       "      <td>33120</td>\n",
       "      <td>5</td>\n",
       "      <td>1</td>\n",
       "      <td>86</td>\n",
       "      <td>eggs</td>\n",
       "      <td>Organic Egg Whites</td>\n",
       "      <td>16</td>\n",
       "      <td>dairy eggs</td>\n",
       "    </tr>\n",
       "    <tr>\n",
       "      <th>4</th>\n",
       "      <td>390</td>\n",
       "      <td>33120</td>\n",
       "      <td>28</td>\n",
       "      <td>1</td>\n",
       "      <td>86</td>\n",
       "      <td>eggs</td>\n",
       "      <td>Organic Egg Whites</td>\n",
       "      <td>16</td>\n",
       "      <td>dairy eggs</td>\n",
       "    </tr>\n",
       "    <tr>\n",
       "      <th>5</th>\n",
       "      <td>537</td>\n",
       "      <td>33120</td>\n",
       "      <td>2</td>\n",
       "      <td>1</td>\n",
       "      <td>86</td>\n",
       "      <td>eggs</td>\n",
       "      <td>Organic Egg Whites</td>\n",
       "      <td>16</td>\n",
       "      <td>dairy eggs</td>\n",
       "    </tr>\n",
       "    <tr>\n",
       "      <th>6</th>\n",
       "      <td>582</td>\n",
       "      <td>33120</td>\n",
       "      <td>7</td>\n",
       "      <td>1</td>\n",
       "      <td>86</td>\n",
       "      <td>eggs</td>\n",
       "      <td>Organic Egg Whites</td>\n",
       "      <td>16</td>\n",
       "      <td>dairy eggs</td>\n",
       "    </tr>\n",
       "    <tr>\n",
       "      <th>7</th>\n",
       "      <td>608</td>\n",
       "      <td>33120</td>\n",
       "      <td>5</td>\n",
       "      <td>1</td>\n",
       "      <td>86</td>\n",
       "      <td>eggs</td>\n",
       "      <td>Organic Egg Whites</td>\n",
       "      <td>16</td>\n",
       "      <td>dairy eggs</td>\n",
       "    </tr>\n",
       "    <tr>\n",
       "      <th>8</th>\n",
       "      <td>623</td>\n",
       "      <td>33120</td>\n",
       "      <td>1</td>\n",
       "      <td>1</td>\n",
       "      <td>86</td>\n",
       "      <td>eggs</td>\n",
       "      <td>Organic Egg Whites</td>\n",
       "      <td>16</td>\n",
       "      <td>dairy eggs</td>\n",
       "    </tr>\n",
       "    <tr>\n",
       "      <th>9</th>\n",
       "      <td>689</td>\n",
       "      <td>33120</td>\n",
       "      <td>4</td>\n",
       "      <td>1</td>\n",
       "      <td>86</td>\n",
       "      <td>eggs</td>\n",
       "      <td>Organic Egg Whites</td>\n",
       "      <td>16</td>\n",
       "      <td>dairy eggs</td>\n",
       "    </tr>\n",
       "  </tbody>\n",
       "</table>\n",
       "</div>"
      ],
      "text/plain": [
       "   order_id  product_id  add_to_cart_order  reordered  aisle_id aisle  \\\n",
       "0         2       33120                  1          1        86  eggs   \n",
       "1        26       33120                  5          0        86  eggs   \n",
       "2       120       33120                 13          0        86  eggs   \n",
       "3       327       33120                  5          1        86  eggs   \n",
       "4       390       33120                 28          1        86  eggs   \n",
       "5       537       33120                  2          1        86  eggs   \n",
       "6       582       33120                  7          1        86  eggs   \n",
       "7       608       33120                  5          1        86  eggs   \n",
       "8       623       33120                  1          1        86  eggs   \n",
       "9       689       33120                  4          1        86  eggs   \n",
       "\n",
       "         product_name  department_id  department  \n",
       "0  Organic Egg Whites             16  dairy eggs  \n",
       "1  Organic Egg Whites             16  dairy eggs  \n",
       "2  Organic Egg Whites             16  dairy eggs  \n",
       "3  Organic Egg Whites             16  dairy eggs  \n",
       "4  Organic Egg Whites             16  dairy eggs  \n",
       "5  Organic Egg Whites             16  dairy eggs  \n",
       "6  Organic Egg Whites             16  dairy eggs  \n",
       "7  Organic Egg Whites             16  dairy eggs  \n",
       "8  Organic Egg Whites             16  dairy eggs  \n",
       "9  Organic Egg Whites             16  dairy eggs  "
      ]
     },
     "execution_count": 166,
     "metadata": {},
     "output_type": "execute_result"
    }
   ],
   "source": [
    "prior_orders_product_merged = pd.merge(order_products_prior_df, department_aisle_merged, on = 'product_id', how = 'inner')\n",
    "prior_orders_product_merged.head(10)\n"
   ]
  },
  {
   "cell_type": "code",
   "execution_count": 165,
   "id": "60bf9891-dc05-4c9b-8553-0200d71087e7",
   "metadata": {},
   "outputs": [
    {
     "data": {
      "text/plain": [
       "(32434489, 9)"
      ]
     },
     "execution_count": 165,
     "metadata": {},
     "output_type": "execute_result"
    }
   ],
   "source": [
    "prior_orders_product_merged.shape"
   ]
  },
  {
   "cell_type": "code",
   "execution_count": 170,
   "id": "7e607130-c003-4cdf-8aa9-eac33300d706",
   "metadata": {
    "tags": []
   },
   "outputs": [],
   "source": [
    "#most_ordered = prior_orders_product_merged.groupby(\"product_name\").agg(count_items = pd.NamedAgg(\"product_name\", \"count_item\"))\n",
    "#most_orderd_10 =most_ordered .head(10)                                                                                              "
   ]
  },
  {
   "cell_type": "code",
   "execution_count": null,
   "id": "1274ed19-e1d6-496f-b002-6f4ff863f1df",
   "metadata": {},
   "outputs": [],
   "source": [
    "bar_plot = go.Bar(\n",
    "    x = "
   ]
  }
 ],
 "metadata": {
  "kernelspec": {
   "display_name": "Python 3 (ipykernel)",
   "language": "python",
   "name": "python3"
  },
  "language_info": {
   "codemirror_mode": {
    "name": "ipython",
    "version": 3
   },
   "file_extension": ".py",
   "mimetype": "text/x-python",
   "name": "python",
   "nbconvert_exporter": "python",
   "pygments_lexer": "ipython3",
   "version": "3.11.4"
  }
 },
 "nbformat": 4,
 "nbformat_minor": 5
}
